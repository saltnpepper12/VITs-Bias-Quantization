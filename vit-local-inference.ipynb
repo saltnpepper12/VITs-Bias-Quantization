{
 "cells": [
  {
   "cell_type": "markdown",
   "metadata": {},
   "source": [
    "To carry out local inference of base VIT pth file "
   ]
  },
  {
   "cell_type": "code",
   "execution_count": 9,
   "metadata": {},
   "outputs": [
    {
     "name": "stderr",
     "output_type": "stream",
     "text": [
      "Some weights of ViTForImageClassification were not initialized from the model checkpoint at google/vit-base-patch16-224 and are newly initialized because the shapes did not match:\n",
      "- classifier.bias: found shape torch.Size([1000]) in the checkpoint and torch.Size([7]) in the model instantiated\n",
      "- classifier.weight: found shape torch.Size([1000, 768]) in the checkpoint and torch.Size([7, 768]) in the model instantiated\n",
      "You should probably TRAIN this model on a down-stream task to be able to use it for predictions and inference.\n"
     ]
    },
    {
     "name": "stdout",
     "output_type": "stream",
     "text": [
      "Top-1 Prediction: White (91.29%)\n",
      "Top-5 Predictions:\n",
      "  White: 91.29%\n",
      "  Middle Eastern: 4.95%\n",
      "  Indian: 2.81%\n",
      "  East Asian: 0.72%\n",
      "  Black: 0.17%\n"
     ]
    }
   ],
   "source": [
    "import torch\n",
    "from PIL import Image\n",
    "from torchvision import transforms\n",
    "from transformers import ViTForImageClassification\n",
    "import io\n",
    "\n",
    "# Class mapping for FairFace\n",
    "fairface_classes = [\n",
    "    \"White\", \"Black\", \"Latino_Hispanic\", \"East Asian\",\n",
    "    \"Southeast Asian\", \"Indian\", \"Middle Eastern\"\n",
    "]\n",
    "\n",
    "# Preprocessing (same as training)\n",
    "transform = transforms.Compose([\n",
    "    transforms.Resize((224, 224)),\n",
    "    transforms.ToTensor(),\n",
    "    transforms.Normalize(mean=[0.485, 0.456, 0.406], std=[0.229, 0.224, 0.225])\n",
    "])\n",
    "\n",
    "# Load model\n",
    "num_classes = 7\n",
    "model = ViTForImageClassification.from_pretrained(\n",
    "    'google/vit-base-patch16-224',\n",
    "    num_labels=num_classes,\n",
    "    ignore_mismatched_sizes=True\n",
    ")\n",
    "model.load_state_dict(torch.load(\"vit_fairface_best.pth\", map_location=\"cpu\"))\n",
    "model.eval()\n",
    "model = model.to(\"cuda\" if torch.cuda.is_available() else \"cpu\")\n",
    "\n",
    "def infer_image_from_path(image_path):\n",
    "    image = Image.open(image_path).convert('RGB')\n",
    "    input_tensor = transform(image).unsqueeze(0)\n",
    "    input_tensor = input_tensor.to(\"cuda\" if torch.cuda.is_available() else \"cpu\")\n",
    "    with torch.no_grad():\n",
    "        logits = model(input_tensor).logits\n",
    "        probs = torch.softmax(logits, dim=1)\n",
    "        top5_probs, top5_indices = probs.topk(5, dim=1)\n",
    "        top5_probs = top5_probs.cpu().numpy().flatten()\n",
    "        top5_indices = top5_indices.cpu().numpy().flatten()\n",
    "        top5_classes = [fairface_classes[i] for i in top5_indices]\n",
    "    return top5_classes, top5_probs\n",
    "\n",
    "# Example usage:\n",
    "image_path = \"asian.jpg\"  # <-- Replace with your local image path\n",
    "top5_classes, top5_probs = infer_image_from_path(image_path)\n",
    "print(\"Top-1 Prediction:\", top5_classes[0], f\"({top5_probs[0]*100:.2f}%)\")\n",
    "print(\"Top-5 Predictions:\")\n",
    "for cls, prob in zip(top5_classes, top5_probs):\n",
    "    print(f\"  {cls}: {prob*100:.2f}%\")"
   ]
  },
  {
   "cell_type": "code",
   "execution_count": null,
   "metadata": {},
   "outputs": [],
   "source": []
  }
 ],
 "metadata": {
  "kernelspec": {
   "display_name": "py39",
   "language": "python",
   "name": "python3"
  },
  "language_info": {
   "codemirror_mode": {
    "name": "ipython",
    "version": 3
   },
   "file_extension": ".py",
   "mimetype": "text/x-python",
   "name": "python",
   "nbconvert_exporter": "python",
   "pygments_lexer": "ipython3",
   "version": "3.9.19"
  }
 },
 "nbformat": 4,
 "nbformat_minor": 2
}
